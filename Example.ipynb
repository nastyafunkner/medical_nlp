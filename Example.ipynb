{
 "cells": [
  {
   "cell_type": "code",
   "execution_count": 1,
   "metadata": {},
   "outputs": [
    {
     "output_type": "execute_result",
     "data": {
      "text/plain": [
       "         id                                           sentence  \\\n",
       "0  100022_0                  Болеет СД 2 типа в течении 5 лет.   \n",
       "1  100085_0  Считает себя больной с 1993 года, когда перене...   \n",
       "2  100085_4  В мае 2009 года в СибГМУ проводилась РЧ-аблаци...   \n",
       "3  100085_5  Ухудшение в конце 2009, начале 2010 года, когд...   \n",
       "4  100085_7  В апреле 2010 года проходила лечение в отд НРС...   \n",
       "\n",
       "                  date    birthday  \n",
       "0  2010-12-14 18:33:23  1957-01-01  \n",
       "1  2010-12-14 21:06:48  1950-11-05  \n",
       "2  2010-12-14 21:06:48  1950-11-05  \n",
       "3  2010-12-14 21:06:48  1950-11-05  \n",
       "4  2010-12-14 21:06:48  1950-11-05  "
      ],
      "text/html": "<div>\n<style scoped>\n    .dataframe tbody tr th:only-of-type {\n        vertical-align: middle;\n    }\n\n    .dataframe tbody tr th {\n        vertical-align: top;\n    }\n\n    .dataframe thead th {\n        text-align: right;\n    }\n</style>\n<table border=\"1\" class=\"dataframe\">\n  <thead>\n    <tr style=\"text-align: right;\">\n      <th></th>\n      <th>id</th>\n      <th>sentence</th>\n      <th>date</th>\n      <th>birthday</th>\n    </tr>\n  </thead>\n  <tbody>\n    <tr>\n      <th>0</th>\n      <td>100022_0</td>\n      <td>Болеет СД 2 типа в течении 5 лет.</td>\n      <td>2010-12-14 18:33:23</td>\n      <td>1957-01-01</td>\n    </tr>\n    <tr>\n      <th>1</th>\n      <td>100085_0</td>\n      <td>Считает себя больной с 1993 года, когда перене...</td>\n      <td>2010-12-14 21:06:48</td>\n      <td>1950-11-05</td>\n    </tr>\n    <tr>\n      <th>2</th>\n      <td>100085_4</td>\n      <td>В мае 2009 года в СибГМУ проводилась РЧ-аблаци...</td>\n      <td>2010-12-14 21:06:48</td>\n      <td>1950-11-05</td>\n    </tr>\n    <tr>\n      <th>3</th>\n      <td>100085_5</td>\n      <td>Ухудшение в конце 2009, начале 2010 года, когд...</td>\n      <td>2010-12-14 21:06:48</td>\n      <td>1950-11-05</td>\n    </tr>\n    <tr>\n      <th>4</th>\n      <td>100085_7</td>\n      <td>В апреле 2010 года проходила лечение в отд НРС...</td>\n      <td>2010-12-14 21:06:48</td>\n      <td>1950-11-05</td>\n    </tr>\n  </tbody>\n</table>\n</div>"
     },
     "metadata": {},
     "execution_count": 1
    }
   ],
   "source": [
    "import pandas as pd\n",
    "\n",
    "df = pd.read_csv('data/train_time.csv')\n",
    "df = df[:100]\n",
    "df.head()"
   ]
  },
  {
   "cell_type": "code",
   "execution_count": 2,
   "metadata": {},
   "outputs": [
    {
     "output_type": "stream",
     "name": "stdout",
     "text": [
      "WARNING:tensorflow:From /home/renoip2/Jupyter/NCKR/medical_nlp/syntax/parser.py:12: The name tf.ConfigProto is deprecated. Please use tf.compat.v1.ConfigProto instead.\n",
      "\n",
      "[nltk_data] Downloading package punkt to /home/renoip2/nltk_data...\n",
      "[nltk_data]   Package punkt is already up-to-date!\n",
      "[nltk_data] Downloading package stopwords to\n",
      "[nltk_data]     /home/renoip2/nltk_data...\n",
      "[nltk_data]   Package stopwords is already up-to-date!\n",
      "[nltk_data] Downloading package perluniprops to\n",
      "[nltk_data]     /home/renoip2/nltk_data...\n",
      "[nltk_data]   Package perluniprops is already up-to-date!\n",
      "[nltk_data] Downloading package nonbreaking_prefixes to\n",
      "[nltk_data]     /home/renoip2/nltk_data...\n",
      "[nltk_data]   Package nonbreaking_prefixes is already up-to-date!\n",
      "Initialization complete!\n"
     ]
    }
   ],
   "source": [
    "from syntax.parser import Parser\n",
    "\n",
    "parser = Parser()"
   ]
  },
  {
   "cell_type": "markdown",
   "metadata": {},
   "source": [
    "# Parse single sentence"
   ]
  },
  {
   "cell_type": "code",
   "execution_count": 3,
   "metadata": {},
   "outputs": [],
   "source": [
    "from TimeExpressions.TimeProcessor import TimeProcessor\n",
    "\n",
    "processor = TimeProcessor()"
   ]
  },
  {
   "cell_type": "code",
   "execution_count": 4,
   "metadata": {},
   "outputs": [
    {
     "output_type": "stream",
     "name": "stdout",
     "text": [
      "[('ВК: в течении 5 лет', 'Нормальная форма: [datetime.datetime(2016, 1, 19, 12, 5, 1, 175957), datetime.datetime(2021, 1, 19, 12, 5, 1, 175957)]', 'Событие: Болеет СД 2 типа')]\n"
     ]
    }
   ],
   "source": [
    "doc = processor.process(sentence=\"Болеет СД 2 типа в течении 5 лет .\", parser=parser, save=True)\n",
    "print([('ВК: '+ent.text, 'Нормальная форма: '+str(ent._.normal_form), 'Событие: '+ent._.event) for ent in doc[0].ents])"
   ]
  },
  {
   "cell_type": "markdown",
   "metadata": {},
   "source": [
    "# Parse set of sentences and convert result to pandas"
   ]
  },
  {
   "cell_type": "code",
   "execution_count": 5,
   "metadata": {},
   "outputs": [
    {
     "output_type": "execute_result",
     "data": {
      "text/plain": [
       "                                            sentence                 date  \\\n",
       "0                Болеет СД 2 типа в течении 5 лет .   2010-12-14 18:33:00   \n",
       "1  Считает себя больной с 1993 года , когда перен...  2010-12-14 21:06:00   \n",
       "2  В мае 2009 года в СибГМУ проводилась РЧ - абла...  2010-12-14 21:06:00   \n",
       "3  Ухудшение в конце 2009 , начале 2010 года , ко...  2010-12-14 21:06:00   \n",
       "4  В апреле 2010 года проходила лечение в отд НРС...  2010-12-14 21:06:00   \n",
       "5  В течение месяца чувствовала себя удовлетворит...  2010-12-14 21:06:00   \n",
       "6  Больной себя считает около 6 лет , когла вперв...  2010-12-15 13:36:00   \n",
       "7  В 2008 году внезапно почувствовала слабость , ...  2010-12-15 13:36:00   \n",
       "8  17.09.2008 пациентке имплантирован ЭКС 452 , п...  2010-12-15 13:36:00   \n",
       "9  Осенью 2010 года пациентка госпитализировалась...  2010-12-15 13:36:00   \n",
       "\n",
       "             birthdate                     time_expr  \\\n",
       "0  1957-01-01 00:00:00               в течении 5 лет   \n",
       "1  1950-11-05 00:00:00                   с 1993 года   \n",
       "2  1950-11-05 00:00:00               В мае 2009 года   \n",
       "3  1950-11-05 00:00:00    в конце 2009 , начале 2010   \n",
       "4  1950-11-05 00:00:00  В апреле 2010 года, за сутки   \n",
       "5  1950-11-05 00:00:00              В течение месяца   \n",
       "6  1953-02-17 00:00:00                   около 6 лет   \n",
       "7  1953-02-17 00:00:00                   В 2008 году   \n",
       "8  1953-02-17 00:00:00                    17.09.2008   \n",
       "9  1953-02-17 00:00:00              Осенью 2010 года   \n",
       "\n",
       "                                               event  \\\n",
       "0                                   Болеет СД 2 типа   \n",
       "1                перенесла гинекологическую операцию   \n",
       "2              проводилась РЧ - аблация по поводу ЖЭ   \n",
       "3                                          Ухудшение   \n",
       "4  проходила лечение в отд НРС, холтере 1 экстрас...   \n",
       "5                 чувствовала себя удовлетворительно   \n",
       "6                               Больной себя считает   \n",
       "7                    внезапно почувствовала слабость   \n",
       "8                              имплантирован ЭКС 452   \n",
       "9             госпитализировалась в плановом порядке   \n",
       "\n",
       "                                                norm  \\\n",
       "0          2005-12-14 18:33:00 – 2010-12-14 18:33:00   \n",
       "1          1993-07-01 00:00:00 – 2010-12-14 21:06:00   \n",
       "2                                2009-05-15 00:00:00   \n",
       "3                                2010-02-15 00:00:00   \n",
       "4  2010-04-15 00:00:00, 2010-12-13 21:06:00 – 201...   \n",
       "5          2010-11-14 21:06:00 – 2010-12-14 21:06:00   \n",
       "6          2004-12-15 13:36:00 – 2010-12-15 13:36:00   \n",
       "7                                2008-07-01 00:00:00   \n",
       "8                                2008-09-17 00:00:00   \n",
       "9                                2010-10-15 00:00:00   \n",
       "\n",
       "                                           uncertain   stamp  \\\n",
       "0  [2004-12-14 18:33:00, 2005-12-14 18:33:00, 201...     [2]   \n",
       "1  [1992-07-01 00:00:00, 1993-07-01 00:00:00, 201...     [2]   \n",
       "2  [2009-04-15 00:00:00, 2009-05-15 00:00:00, 200...     [1]   \n",
       "3  [2010-01-01 00:00:00, 2010-02-15 00:00:00, 201...     [1]   \n",
       "4  [2010-03-15 00:00:00, 2010-04-15 00:00:00, 201...  [1, 2]   \n",
       "5  [2010-10-14 21:06:00, 2010-11-14 21:06:00, 201...     [2]   \n",
       "6  [2002-12-15 13:36:00, 2004-12-15 13:36:00, 201...     [2]   \n",
       "7  [2007-07-01 00:00:00, 2008-07-01 00:00:00, 200...     [1]   \n",
       "8  [2008-09-16 00:00:00, 2008-09-17 00:00:00, 200...     [1]   \n",
       "9  [2010-08-31 00:00:00, 2010-10-15 00:00:00, 201...     [1]   \n",
       "\n",
       "                                 rule  \n",
       "0                      r_dur_int_unit  \n",
       "1                  r_from_year4d_year  \n",
       "2             r_in_month_yeard4d_year  \n",
       "3        r_in_part_year4d_part_year4d  \n",
       "4  r_in_month_yeard4d_year, r_za_unit  \n",
       "5                          r_dur_unit  \n",
       "6                     r_more_int_unit  \n",
       "7                    r_in_year4d_year  \n",
       "8                              r_date  \n",
       "9               r_season_yeard4d_year  "
      ],
      "text/html": "<div>\n<style scoped>\n    .dataframe tbody tr th:only-of-type {\n        vertical-align: middle;\n    }\n\n    .dataframe tbody tr th {\n        vertical-align: top;\n    }\n\n    .dataframe thead th {\n        text-align: right;\n    }\n</style>\n<table border=\"1\" class=\"dataframe\">\n  <thead>\n    <tr style=\"text-align: right;\">\n      <th></th>\n      <th>sentence</th>\n      <th>date</th>\n      <th>birthdate</th>\n      <th>time_expr</th>\n      <th>event</th>\n      <th>norm</th>\n      <th>uncertain</th>\n      <th>stamp</th>\n      <th>rule</th>\n    </tr>\n  </thead>\n  <tbody>\n    <tr>\n      <th>0</th>\n      <td>Болеет СД 2 типа в течении 5 лет .</td>\n      <td>2010-12-14 18:33:00</td>\n      <td>1957-01-01 00:00:00</td>\n      <td>в течении 5 лет</td>\n      <td>Болеет СД 2 типа</td>\n      <td>2005-12-14 18:33:00 – 2010-12-14 18:33:00</td>\n      <td>[2004-12-14 18:33:00, 2005-12-14 18:33:00, 201...</td>\n      <td>[2]</td>\n      <td>r_dur_int_unit</td>\n    </tr>\n    <tr>\n      <th>1</th>\n      <td>Считает себя больной с 1993 года , когда перен...</td>\n      <td>2010-12-14 21:06:00</td>\n      <td>1950-11-05 00:00:00</td>\n      <td>с 1993 года</td>\n      <td>перенесла гинекологическую операцию</td>\n      <td>1993-07-01 00:00:00 – 2010-12-14 21:06:00</td>\n      <td>[1992-07-01 00:00:00, 1993-07-01 00:00:00, 201...</td>\n      <td>[2]</td>\n      <td>r_from_year4d_year</td>\n    </tr>\n    <tr>\n      <th>2</th>\n      <td>В мае 2009 года в СибГМУ проводилась РЧ - абла...</td>\n      <td>2010-12-14 21:06:00</td>\n      <td>1950-11-05 00:00:00</td>\n      <td>В мае 2009 года</td>\n      <td>проводилась РЧ - аблация по поводу ЖЭ</td>\n      <td>2009-05-15 00:00:00</td>\n      <td>[2009-04-15 00:00:00, 2009-05-15 00:00:00, 200...</td>\n      <td>[1]</td>\n      <td>r_in_month_yeard4d_year</td>\n    </tr>\n    <tr>\n      <th>3</th>\n      <td>Ухудшение в конце 2009 , начале 2010 года , ко...</td>\n      <td>2010-12-14 21:06:00</td>\n      <td>1950-11-05 00:00:00</td>\n      <td>в конце 2009 , начале 2010</td>\n      <td>Ухудшение</td>\n      <td>2010-02-15 00:00:00</td>\n      <td>[2010-01-01 00:00:00, 2010-02-15 00:00:00, 201...</td>\n      <td>[1]</td>\n      <td>r_in_part_year4d_part_year4d</td>\n    </tr>\n    <tr>\n      <th>4</th>\n      <td>В апреле 2010 года проходила лечение в отд НРС...</td>\n      <td>2010-12-14 21:06:00</td>\n      <td>1950-11-05 00:00:00</td>\n      <td>В апреле 2010 года, за сутки</td>\n      <td>проходила лечение в отд НРС, холтере 1 экстрас...</td>\n      <td>2010-04-15 00:00:00, 2010-12-13 21:06:00 – 201...</td>\n      <td>[2010-03-15 00:00:00, 2010-04-15 00:00:00, 201...</td>\n      <td>[1, 2]</td>\n      <td>r_in_month_yeard4d_year, r_za_unit</td>\n    </tr>\n    <tr>\n      <th>5</th>\n      <td>В течение месяца чувствовала себя удовлетворит...</td>\n      <td>2010-12-14 21:06:00</td>\n      <td>1950-11-05 00:00:00</td>\n      <td>В течение месяца</td>\n      <td>чувствовала себя удовлетворительно</td>\n      <td>2010-11-14 21:06:00 – 2010-12-14 21:06:00</td>\n      <td>[2010-10-14 21:06:00, 2010-11-14 21:06:00, 201...</td>\n      <td>[2]</td>\n      <td>r_dur_unit</td>\n    </tr>\n    <tr>\n      <th>6</th>\n      <td>Больной себя считает около 6 лет , когла вперв...</td>\n      <td>2010-12-15 13:36:00</td>\n      <td>1953-02-17 00:00:00</td>\n      <td>около 6 лет</td>\n      <td>Больной себя считает</td>\n      <td>2004-12-15 13:36:00 – 2010-12-15 13:36:00</td>\n      <td>[2002-12-15 13:36:00, 2004-12-15 13:36:00, 201...</td>\n      <td>[2]</td>\n      <td>r_more_int_unit</td>\n    </tr>\n    <tr>\n      <th>7</th>\n      <td>В 2008 году внезапно почувствовала слабость , ...</td>\n      <td>2010-12-15 13:36:00</td>\n      <td>1953-02-17 00:00:00</td>\n      <td>В 2008 году</td>\n      <td>внезапно почувствовала слабость</td>\n      <td>2008-07-01 00:00:00</td>\n      <td>[2007-07-01 00:00:00, 2008-07-01 00:00:00, 200...</td>\n      <td>[1]</td>\n      <td>r_in_year4d_year</td>\n    </tr>\n    <tr>\n      <th>8</th>\n      <td>17.09.2008 пациентке имплантирован ЭКС 452 , п...</td>\n      <td>2010-12-15 13:36:00</td>\n      <td>1953-02-17 00:00:00</td>\n      <td>17.09.2008</td>\n      <td>имплантирован ЭКС 452</td>\n      <td>2008-09-17 00:00:00</td>\n      <td>[2008-09-16 00:00:00, 2008-09-17 00:00:00, 200...</td>\n      <td>[1]</td>\n      <td>r_date</td>\n    </tr>\n    <tr>\n      <th>9</th>\n      <td>Осенью 2010 года пациентка госпитализировалась...</td>\n      <td>2010-12-15 13:36:00</td>\n      <td>1953-02-17 00:00:00</td>\n      <td>Осенью 2010 года</td>\n      <td>госпитализировалась в плановом порядке</td>\n      <td>2010-10-15 00:00:00</td>\n      <td>[2010-08-31 00:00:00, 2010-10-15 00:00:00, 201...</td>\n      <td>[1]</td>\n      <td>r_season_yeard4d_year</td>\n    </tr>\n  </tbody>\n</table>\n</div>"
     },
     "metadata": {},
     "execution_count": 5
    }
   ],
   "source": [
    "result = processor.process(sentence=df.sentence.values, date=df.date.values, birthday=df.birthday.values, to_dataframe=True, parser=parser)\n",
    "result.head(10)"
   ]
  },
  {
   "source": [
    "# Example of negation module"
   ],
   "cell_type": "markdown",
   "metadata": {}
  },
  {
   "cell_type": "code",
   "execution_count": 2,
   "metadata": {},
   "outputs": [
    {
     "output_type": "execute_result",
     "data": {
      "text/plain": [
       "                                           sentences  \\\n",
       "0  Со слов больного ранее боли в области сердца н...   \n",
       "1  На ЭКГ элевация ST V1-V3 , с представлением об...   \n",
       "2  За время наблюдения самочувствие без ухудшения...   \n",
       "3  Не обследовалась , антиангинальной терапии не ...   \n",
       "4  На контрольной КГ- отмечается некоторое усугуб...   \n",
       "\n",
       "                                                form           entity  \n",
       "0              боли не отмечал, АД не контролировал          боли, АД  \n",
       "1                           не принимает медикаменты      медикаменты  \n",
       "2  без ухудшения самочувствие, без особенностей м...        ухудшения  \n",
       "3  Не обследовалась, не проводилось антиангинальн...    обследовалась  \n",
       "4                       не выполнять дилатацию устья  дилатацию устья  "
      ],
      "text/html": "<div>\n<style scoped>\n    .dataframe tbody tr th:only-of-type {\n        vertical-align: middle;\n    }\n\n    .dataframe tbody tr th {\n        vertical-align: top;\n    }\n\n    .dataframe thead th {\n        text-align: right;\n    }\n</style>\n<table border=\"1\" class=\"dataframe\">\n  <thead>\n    <tr style=\"text-align: right;\">\n      <th></th>\n      <th>sentences</th>\n      <th>form</th>\n      <th>entity</th>\n    </tr>\n  </thead>\n  <tbody>\n    <tr>\n      <th>0</th>\n      <td>Со слов больного ранее боли в области сердца н...</td>\n      <td>боли не отмечал, АД не контролировал</td>\n      <td>боли, АД</td>\n    </tr>\n    <tr>\n      <th>1</th>\n      <td>На ЭКГ элевация ST V1-V3 , с представлением об...</td>\n      <td>не принимает медикаменты</td>\n      <td>медикаменты</td>\n    </tr>\n    <tr>\n      <th>2</th>\n      <td>За время наблюдения самочувствие без ухудшения...</td>\n      <td>без ухудшения самочувствие, без особенностей м...</td>\n      <td>ухудшения</td>\n    </tr>\n    <tr>\n      <th>3</th>\n      <td>Не обследовалась , антиангинальной терапии не ...</td>\n      <td>Не обследовалась, не проводилось антиангинальн...</td>\n      <td>обследовалась</td>\n    </tr>\n    <tr>\n      <th>4</th>\n      <td>На контрольной КГ- отмечается некоторое усугуб...</td>\n      <td>не выполнять дилатацию устья</td>\n      <td>дилатацию устья</td>\n    </tr>\n  </tbody>\n</table>\n</div>"
     },
     "metadata": {},
     "execution_count": 2
    }
   ],
   "source": [
    "import pandas as pd\n",
    "\n",
    "df_neg = pd.read_csv('data/train_neg.csv', index_col=0)\n",
    "df_neg = df_neg[:100]\n",
    "df_neg.head()"
   ]
  },
  {
   "cell_type": "code",
   "execution_count": 6,
   "metadata": {},
   "outputs": [],
   "source": [
    "from negations import negations\n",
    "\n",
    "negator = negations.Negator()"
   ]
  },
  {
   "cell_type": "code",
   "execution_count": 11,
   "metadata": {},
   "outputs": [
    {
     "output_type": "execute_result",
     "data": {
      "text/plain": [
       "'На ЭКГ элевация ST V1-V3 , с представлением об ОКС с подъемом ST госпитализирован в ФГУ ФЦСКЭ Лечение : регулярно медикаменты не принимает Более 10 лет ГБ , адаптирована к АД 140/80 мм.рт.ст. , максимальные АД 200/100 мм.рт.ст '"
      ]
     },
     "metadata": {},
     "execution_count": 11
    }
   ],
   "source": [
    "df_neg.sentences[1]"
   ]
  },
  {
   "cell_type": "code",
   "execution_count": 12,
   "metadata": {},
   "outputs": [
    {
     "output_type": "stream",
     "name": "stdout",
     "text": [
      "[('negated expression: [не, принимает, медикаменты]', 'expression entity: [медикаменты]')]\n"
     ]
    }
   ],
   "source": [
    "doc = negator.process(sentence=['На ЭКГ элевация ST V1-V3 , с представлением об ОКС с подъемом ST госпитализирован в ФГУ ФЦСКЭ Лечение : регулярно медикаменты не принимает Более 10 лет ГБ , адаптирована к АД 140/80 мм.рт.ст. , максимальные АД 200/100 мм.рт.ст '], parser=parser)\n",
    "print([('negated expression: '+str(ent._.neg_expr), 'expression entity: '+str(ent._.neg_ent)) for ent in doc[0].ents])"
   ]
  },
  {
   "cell_type": "code",
   "execution_count": 9,
   "metadata": {},
   "outputs": [
    {
     "output_type": "execute_result",
     "data": {
      "text/plain": [
       "                                            sentence  \\\n",
       "0  Со слов больного ранее боли в области сердца н...   \n",
       "1  На ЭКГ элевация ST V1-V3 , с представлением об...   \n",
       "2  За время наблюдения самочувствие без ухудшения...   \n",
       "3  Не обследовалась , антиангинальной терапии не ...   \n",
       "4  На контрольной КГ - отмечается некоторое усугу...   \n",
       "5  На фоне терапии кордароном ЖНР не рецидивирова...   \n",
       "6  По данным СМ - ЭКГ - за время наблюдения регис...   \n",
       "7  С 2010 г - ГБ ( АДmax - 195/100mmHg ) , без ре...   \n",
       "8  В ФЦСКЭ не обращался , антиангинальную терапию...   \n",
       "9  лозап 50 мг , статины ) сположительным эффекто...   \n",
       "\n",
       "                                            neg_expr  \\\n",
       "0                    не отмечал, не контролировал АД   \n",
       "1                           не принимает медикаменты   \n",
       "2  без ухудшения самочувствие, без особенностей м...   \n",
       "3  Не обследовалась, не проводилось антиангинальн...   \n",
       "4                       не выполнять дилатацию устья   \n",
       "5  На фоне терапии кордароном ЖНР не рецидивирова...   \n",
       "6                      не зарегистрированы нарушения   \n",
       "7                                        без терапии   \n",
       "8  В ФЦСКЭ не обращался, не получал антиангинальн...   \n",
       "9                             не рецидивировали боли   \n",
       "\n",
       "                                             neg_ent  \n",
       "0                                           None, АД  \n",
       "1                                        медикаменты  \n",
       "2  ухудшения самочувствие, особенностей место пун...  \n",
       "3                      None, антиангинальной терапии  \n",
       "4                                    дилатацию устья  \n",
       "5  На фоне терапии кордароном ЖНР,  None, ангиноз...  \n",
       "6                                          нарушения  \n",
       "7                                            терапии  \n",
       "8                   В ФЦСКЭ, антиангинальную терапию  \n",
       "9                                               боли  "
      ],
      "text/html": "<div>\n<style scoped>\n    .dataframe tbody tr th:only-of-type {\n        vertical-align: middle;\n    }\n\n    .dataframe tbody tr th {\n        vertical-align: top;\n    }\n\n    .dataframe thead th {\n        text-align: right;\n    }\n</style>\n<table border=\"1\" class=\"dataframe\">\n  <thead>\n    <tr style=\"text-align: right;\">\n      <th></th>\n      <th>sentence</th>\n      <th>neg_expr</th>\n      <th>neg_ent</th>\n    </tr>\n  </thead>\n  <tbody>\n    <tr>\n      <th>0</th>\n      <td>Со слов больного ранее боли в области сердца н...</td>\n      <td>не отмечал, не контролировал АД</td>\n      <td>None, АД</td>\n    </tr>\n    <tr>\n      <th>1</th>\n      <td>На ЭКГ элевация ST V1-V3 , с представлением об...</td>\n      <td>не принимает медикаменты</td>\n      <td>медикаменты</td>\n    </tr>\n    <tr>\n      <th>2</th>\n      <td>За время наблюдения самочувствие без ухудшения...</td>\n      <td>без ухудшения самочувствие, без особенностей м...</td>\n      <td>ухудшения самочувствие, особенностей место пун...</td>\n    </tr>\n    <tr>\n      <th>3</th>\n      <td>Не обследовалась , антиангинальной терапии не ...</td>\n      <td>Не обследовалась, не проводилось антиангинальн...</td>\n      <td>None, антиангинальной терапии</td>\n    </tr>\n    <tr>\n      <th>4</th>\n      <td>На контрольной КГ - отмечается некоторое усугу...</td>\n      <td>не выполнять дилатацию устья</td>\n      <td>дилатацию устья</td>\n    </tr>\n    <tr>\n      <th>5</th>\n      <td>На фоне терапии кордароном ЖНР не рецидивирова...</td>\n      <td>На фоне терапии кордароном ЖНР не рецидивирова...</td>\n      <td>На фоне терапии кордароном ЖНР,  None, ангиноз...</td>\n    </tr>\n    <tr>\n      <th>6</th>\n      <td>По данным СМ - ЭКГ - за время наблюдения регис...</td>\n      <td>не зарегистрированы нарушения</td>\n      <td>нарушения</td>\n    </tr>\n    <tr>\n      <th>7</th>\n      <td>С 2010 г - ГБ ( АДmax - 195/100mmHg ) , без ре...</td>\n      <td>без терапии</td>\n      <td>терапии</td>\n    </tr>\n    <tr>\n      <th>8</th>\n      <td>В ФЦСКЭ не обращался , антиангинальную терапию...</td>\n      <td>В ФЦСКЭ не обращался, не получал антиангинальн...</td>\n      <td>В ФЦСКЭ, антиангинальную терапию</td>\n    </tr>\n    <tr>\n      <th>9</th>\n      <td>лозап 50 мг , статины ) сположительным эффекто...</td>\n      <td>не рецидивировали боли</td>\n      <td>боли</td>\n    </tr>\n  </tbody>\n</table>\n</div>"
     },
     "metadata": {},
     "execution_count": 9
    }
   ],
   "source": [
    "result = negator.process(sentence=df_neg.sentences.values, parser=parser, to_dataframe=True)\n",
    "result.head(10)"
   ]
  },
  {
   "cell_type": "code",
   "execution_count": null,
   "metadata": {},
   "outputs": [],
   "source": []
  }
 ],
 "metadata": {
  "kernelspec": {
   "display_name": "Python 3",
   "language": "python",
   "name": "python3"
  },
  "language_info": {
   "codemirror_mode": {
    "name": "ipython",
    "version": 3
   },
   "file_extension": ".py",
   "mimetype": "text/x-python",
   "name": "python",
   "nbconvert_exporter": "python",
   "pygments_lexer": "ipython3",
   "version": "3.7.7-final"
  }
 },
 "nbformat": 4,
 "nbformat_minor": 4
}