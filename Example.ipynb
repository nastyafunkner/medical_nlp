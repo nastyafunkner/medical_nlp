{
 "cells": [
  {
   "cell_type": "markdown",
   "metadata": {},
   "source": [
    "# Load data"
   ]
  },
  {
   "cell_type": "code",
   "execution_count": 1,
   "metadata": {},
   "outputs": [
    {
     "output_type": "execute_result",
     "data": {
      "text/plain": [
       "         id                                           sentence  \\\n",
       "0  100022_0                  Болеет СД 2 типа в течении 5 лет.   \n",
       "1  100085_0  Считает себя больной с 1993 года, когда перене...   \n",
       "2  100085_4  В мае 2009 года в СибГМУ проводилась РЧ-аблаци...   \n",
       "3  100085_5  Ухудшение в конце 2009, начале 2010 года, когд...   \n",
       "4  100085_7  В апреле 2010 года проходила лечение в отд НРС...   \n",
       "\n",
       "                  date    birthday  \n",
       "0  2010-12-14 18:33:23  1957-01-01  \n",
       "1  2010-12-14 21:06:48  1950-11-05  \n",
       "2  2010-12-14 21:06:48  1950-11-05  \n",
       "3  2010-12-14 21:06:48  1950-11-05  \n",
       "4  2010-12-14 21:06:48  1950-11-05  "
      ],
      "text/html": "<div>\n<style scoped>\n    .dataframe tbody tr th:only-of-type {\n        vertical-align: middle;\n    }\n\n    .dataframe tbody tr th {\n        vertical-align: top;\n    }\n\n    .dataframe thead th {\n        text-align: right;\n    }\n</style>\n<table border=\"1\" class=\"dataframe\">\n  <thead>\n    <tr style=\"text-align: right;\">\n      <th></th>\n      <th>id</th>\n      <th>sentence</th>\n      <th>date</th>\n      <th>birthday</th>\n    </tr>\n  </thead>\n  <tbody>\n    <tr>\n      <th>0</th>\n      <td>100022_0</td>\n      <td>Болеет СД 2 типа в течении 5 лет.</td>\n      <td>2010-12-14 18:33:23</td>\n      <td>1957-01-01</td>\n    </tr>\n    <tr>\n      <th>1</th>\n      <td>100085_0</td>\n      <td>Считает себя больной с 1993 года, когда перене...</td>\n      <td>2010-12-14 21:06:48</td>\n      <td>1950-11-05</td>\n    </tr>\n    <tr>\n      <th>2</th>\n      <td>100085_4</td>\n      <td>В мае 2009 года в СибГМУ проводилась РЧ-аблаци...</td>\n      <td>2010-12-14 21:06:48</td>\n      <td>1950-11-05</td>\n    </tr>\n    <tr>\n      <th>3</th>\n      <td>100085_5</td>\n      <td>Ухудшение в конце 2009, начале 2010 года, когд...</td>\n      <td>2010-12-14 21:06:48</td>\n      <td>1950-11-05</td>\n    </tr>\n    <tr>\n      <th>4</th>\n      <td>100085_7</td>\n      <td>В апреле 2010 года проходила лечение в отд НРС...</td>\n      <td>2010-12-14 21:06:48</td>\n      <td>1950-11-05</td>\n    </tr>\n  </tbody>\n</table>\n</div>"
     },
     "metadata": {},
     "execution_count": 1
    }
   ],
   "source": [
    "import pandas as pd\n",
    "\n",
    "df = pd.read_csv('data.csv')\n",
    "df = df[:100]\n",
    "df.head()"
   ]
  },
  {
   "cell_type": "markdown",
   "metadata": {},
   "source": [
    "# Parse single sentence"
   ]
  },
  {
   "cell_type": "code",
   "execution_count": 2,
   "metadata": {},
   "outputs": [
    {
     "output_type": "stream",
     "name": "stdout",
     "text": [
      "WARNING:tensorflow:From /home/renoip2/Jupyter/Jupyter/NCKR/time_expressions/TimeExpressions/TimeProcessor.py:17: The name tf.ConfigProto is deprecated. Please use tf.compat.v1.ConfigProto instead.\n",
      "\n",
      "[nltk_data] Downloading package punkt to /home/renoip2/nltk_data...\n",
      "[nltk_data]   Package punkt is already up-to-date!\n",
      "[nltk_data] Downloading package stopwords to\n",
      "[nltk_data]     /home/renoip2/nltk_data...\n",
      "[nltk_data]   Package stopwords is already up-to-date!\n",
      "[nltk_data] Downloading package perluniprops to\n",
      "[nltk_data]     /home/renoip2/nltk_data...\n",
      "[nltk_data]   Package perluniprops is already up-to-date!\n",
      "[nltk_data] Downloading package nonbreaking_prefixes to\n",
      "[nltk_data]     /home/renoip2/nltk_data...\n",
      "[nltk_data]   Package nonbreaking_prefixes is already up-to-date!\n",
      "Initialization complete!\n"
     ]
    }
   ],
   "source": [
    "from TimeExpressions import TimeProcessor\n",
    "\n",
    "processor = TimeProcessor.TimeProcessor()"
   ]
  },
  {
   "cell_type": "code",
   "execution_count": 3,
   "metadata": {},
   "outputs": [
    {
     "output_type": "stream",
     "name": "stdout",
     "text": [
      "[('ВК: в течении 5 лет', 'Метка: 2', 'Нормальная форма: [datetime.datetime(2005, 5, 17, 0, 0), datetime.datetime(2010, 5, 17, 0, 0)]', 'Событие: Болеет СД 2 типа')]\n"
     ]
    }
   ],
   "source": [
    "doc = processor.process(\"Болеет СД 2 типа в течении 5 лет .\", '2010-05-17 00:00:00', '1944-04-19')\n",
    "print([('ВК: '+ent.text, 'Метка: '+str(ent._.timestamp), 'Нормальная форма: '+str(ent._.normal_form), 'Событие: '+ent._.event) for ent in doc[0].ents])"
   ]
  },
  {
   "cell_type": "markdown",
   "metadata": {},
   "source": [
    "# Parse set of sentences and convert result to pandas"
   ]
  },
  {
   "cell_type": "code",
   "execution_count": 4,
   "metadata": {},
   "outputs": [
    {
     "output_type": "execute_result",
     "data": {
      "text/plain": [
       "                                            sentence                 date  \\\n",
       "0                Болеет СД 2 типа в течении 5 лет .   2010-12-14 18:33:00   \n",
       "1  Считает себя больной с 1993 года , когда перен...  2010-12-14 21:06:00   \n",
       "2  В мае 2009 года в СибГМУ проводилась РЧ - абла...  2010-12-14 21:06:00   \n",
       "3  Ухудшение в конце 2009 , начале 2010 года , ко...  2010-12-14 21:06:00   \n",
       "4  В апреле 2010 года проходила лечение в отд НРС...  2010-12-14 21:06:00   \n",
       "\n",
       "             birthdate                     time_expr  \\\n",
       "0  1957-01-01 00:00:00               в течении 5 лет   \n",
       "1  1950-11-05 00:00:00                   с 1993 года   \n",
       "2  1950-11-05 00:00:00               В мае 2009 года   \n",
       "3  1950-11-05 00:00:00    в конце 2009 , начале 2010   \n",
       "4  1950-11-05 00:00:00  В апреле 2010 года, за сутки   \n",
       "\n",
       "                                               event  \\\n",
       "0                                   Болеет СД 2 типа   \n",
       "1                перенесла гинекологическую операцию   \n",
       "2              проводилась РЧ - аблация по поводу ЖЭ   \n",
       "3                                          Ухудшение   \n",
       "4  проходила лечение в отд НРС, холтере 1 экстрас...   \n",
       "\n",
       "                                                norm  \\\n",
       "0          2005-12-14 18:33:00 – 2010-12-14 18:33:00   \n",
       "1          1993-07-01 00:00:00 – 2010-12-14 21:06:00   \n",
       "2                                2009-05-15 00:00:00   \n",
       "3                                2010-02-15 00:00:00   \n",
       "4  2010-04-15 00:00:00, 2010-12-13 21:06:00 – 201...   \n",
       "\n",
       "                                           uncertain   stamp  \\\n",
       "0  [2004-12-14 18:33:00, 2005-12-14 18:33:00, 201...     [2]   \n",
       "1  [1992-07-01 00:00:00, 1993-07-01 00:00:00, 201...     [2]   \n",
       "2  [2009-04-15 00:00:00, 2009-05-15 00:00:00, 200...     [1]   \n",
       "3  [2010-01-01 00:00:00, 2010-02-15 00:00:00, 201...     [1]   \n",
       "4  [2010-03-16 00:00:00, 2010-04-15 00:00:00, 201...  [1, 2]   \n",
       "\n",
       "                                 rule  \n",
       "0                      r_dur_int_unit  \n",
       "1                  r_from_year4d_year  \n",
       "2             r_in_month_yeard4d_year  \n",
       "3        r_in_part_year4d_part_year4d  \n",
       "4  r_in_month_yeard4d_year, r_za_unit  "
      ],
      "text/html": "<div>\n<style scoped>\n    .dataframe tbody tr th:only-of-type {\n        vertical-align: middle;\n    }\n\n    .dataframe tbody tr th {\n        vertical-align: top;\n    }\n\n    .dataframe thead th {\n        text-align: right;\n    }\n</style>\n<table border=\"1\" class=\"dataframe\">\n  <thead>\n    <tr style=\"text-align: right;\">\n      <th></th>\n      <th>sentence</th>\n      <th>date</th>\n      <th>birthdate</th>\n      <th>time_expr</th>\n      <th>event</th>\n      <th>norm</th>\n      <th>uncertain</th>\n      <th>stamp</th>\n      <th>rule</th>\n    </tr>\n  </thead>\n  <tbody>\n    <tr>\n      <th>0</th>\n      <td>Болеет СД 2 типа в течении 5 лет .</td>\n      <td>2010-12-14 18:33:00</td>\n      <td>1957-01-01 00:00:00</td>\n      <td>в течении 5 лет</td>\n      <td>Болеет СД 2 типа</td>\n      <td>2005-12-14 18:33:00 – 2010-12-14 18:33:00</td>\n      <td>[2004-12-14 18:33:00, 2005-12-14 18:33:00, 201...</td>\n      <td>[2]</td>\n      <td>r_dur_int_unit</td>\n    </tr>\n    <tr>\n      <th>1</th>\n      <td>Считает себя больной с 1993 года , когда перен...</td>\n      <td>2010-12-14 21:06:00</td>\n      <td>1950-11-05 00:00:00</td>\n      <td>с 1993 года</td>\n      <td>перенесла гинекологическую операцию</td>\n      <td>1993-07-01 00:00:00 – 2010-12-14 21:06:00</td>\n      <td>[1992-07-01 00:00:00, 1993-07-01 00:00:00, 201...</td>\n      <td>[2]</td>\n      <td>r_from_year4d_year</td>\n    </tr>\n    <tr>\n      <th>2</th>\n      <td>В мае 2009 года в СибГМУ проводилась РЧ - абла...</td>\n      <td>2010-12-14 21:06:00</td>\n      <td>1950-11-05 00:00:00</td>\n      <td>В мае 2009 года</td>\n      <td>проводилась РЧ - аблация по поводу ЖЭ</td>\n      <td>2009-05-15 00:00:00</td>\n      <td>[2009-04-15 00:00:00, 2009-05-15 00:00:00, 200...</td>\n      <td>[1]</td>\n      <td>r_in_month_yeard4d_year</td>\n    </tr>\n    <tr>\n      <th>3</th>\n      <td>Ухудшение в конце 2009 , начале 2010 года , ко...</td>\n      <td>2010-12-14 21:06:00</td>\n      <td>1950-11-05 00:00:00</td>\n      <td>в конце 2009 , начале 2010</td>\n      <td>Ухудшение</td>\n      <td>2010-02-15 00:00:00</td>\n      <td>[2010-01-01 00:00:00, 2010-02-15 00:00:00, 201...</td>\n      <td>[1]</td>\n      <td>r_in_part_year4d_part_year4d</td>\n    </tr>\n    <tr>\n      <th>4</th>\n      <td>В апреле 2010 года проходила лечение в отд НРС...</td>\n      <td>2010-12-14 21:06:00</td>\n      <td>1950-11-05 00:00:00</td>\n      <td>В апреле 2010 года, за сутки</td>\n      <td>проходила лечение в отд НРС, холтере 1 экстрас...</td>\n      <td>2010-04-15 00:00:00, 2010-12-13 21:06:00 – 201...</td>\n      <td>[2010-03-16 00:00:00, 2010-04-15 00:00:00, 201...</td>\n      <td>[1, 2]</td>\n      <td>r_in_month_yeard4d_year, r_za_unit</td>\n    </tr>\n  </tbody>\n</table>\n</div>"
     },
     "metadata": {},
     "execution_count": 4
    }
   ],
   "source": [
    "result = processor.process(df.sentence.values, df.date.values, df.birthday.values, to_dataframe=True)\n",
    "result.head()"
   ]
  },
  {
   "cell_type": "code",
   "execution_count": null,
   "metadata": {},
   "outputs": [],
   "source": []
  }
 ],
 "metadata": {
  "kernelspec": {
   "display_name": "Python 3",
   "language": "python",
   "name": "python3"
  },
  "language_info": {
   "codemirror_mode": {
    "name": "ipython",
    "version": 3
   },
   "file_extension": ".py",
   "mimetype": "text/x-python",
   "name": "python",
   "nbconvert_exporter": "python",
   "pygments_lexer": "ipython3",
   "version": "3.7.7-final"
  }
 },
 "nbformat": 4,
 "nbformat_minor": 4
}