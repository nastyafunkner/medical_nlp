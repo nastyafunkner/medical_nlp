{
 "cells": [
  {
   "cell_type": "markdown",
   "metadata": {},
   "source": [
    "# Load data"
   ]
  },
  {
   "cell_type": "code",
   "execution_count": 2,
   "metadata": {},
   "outputs": [
    {
     "data": {
      "text/html": [
       "<div>\n",
       "<style scoped>\n",
       "    .dataframe tbody tr th:only-of-type {\n",
       "        vertical-align: middle;\n",
       "    }\n",
       "\n",
       "    .dataframe tbody tr th {\n",
       "        vertical-align: top;\n",
       "    }\n",
       "\n",
       "    .dataframe thead th {\n",
       "        text-align: right;\n",
       "    }\n",
       "</style>\n",
       "<table border=\"1\" class=\"dataframe\">\n",
       "  <thead>\n",
       "    <tr style=\"text-align: right;\">\n",
       "      <th></th>\n",
       "      <th>id</th>\n",
       "      <th>sentence</th>\n",
       "      <th>date</th>\n",
       "      <th>birthday</th>\n",
       "    </tr>\n",
       "  </thead>\n",
       "  <tbody>\n",
       "    <tr>\n",
       "      <th>0</th>\n",
       "      <td>100022_0</td>\n",
       "      <td>Болеет СД 2 типа в течении 5 лет.</td>\n",
       "      <td>2010-12-14 18:33:23</td>\n",
       "      <td>1957-01-01</td>\n",
       "    </tr>\n",
       "    <tr>\n",
       "      <th>1</th>\n",
       "      <td>100085_0</td>\n",
       "      <td>Считает себя больной с 1993 года, когда перене...</td>\n",
       "      <td>2010-12-14 21:06:48</td>\n",
       "      <td>1950-11-05</td>\n",
       "    </tr>\n",
       "    <tr>\n",
       "      <th>2</th>\n",
       "      <td>100085_4</td>\n",
       "      <td>В мае 2009 года в СибГМУ проводилась РЧ-аблаци...</td>\n",
       "      <td>2010-12-14 21:06:48</td>\n",
       "      <td>1950-11-05</td>\n",
       "    </tr>\n",
       "    <tr>\n",
       "      <th>3</th>\n",
       "      <td>100085_5</td>\n",
       "      <td>Ухудшение в конце 2009, начале 2010 года, когд...</td>\n",
       "      <td>2010-12-14 21:06:48</td>\n",
       "      <td>1950-11-05</td>\n",
       "    </tr>\n",
       "    <tr>\n",
       "      <th>4</th>\n",
       "      <td>100085_7</td>\n",
       "      <td>В апреле 2010 года проходила лечение в отд НРС...</td>\n",
       "      <td>2010-12-14 21:06:48</td>\n",
       "      <td>1950-11-05</td>\n",
       "    </tr>\n",
       "  </tbody>\n",
       "</table>\n",
       "</div>"
      ],
      "text/plain": [
       "         id                                           sentence  \\\n",
       "0  100022_0                  Болеет СД 2 типа в течении 5 лет.   \n",
       "1  100085_0  Считает себя больной с 1993 года, когда перене...   \n",
       "2  100085_4  В мае 2009 года в СибГМУ проводилась РЧ-аблаци...   \n",
       "3  100085_5  Ухудшение в конце 2009, начале 2010 года, когд...   \n",
       "4  100085_7  В апреле 2010 года проходила лечение в отд НРС...   \n",
       "\n",
       "                  date    birthday  \n",
       "0  2010-12-14 18:33:23  1957-01-01  \n",
       "1  2010-12-14 21:06:48  1950-11-05  \n",
       "2  2010-12-14 21:06:48  1950-11-05  \n",
       "3  2010-12-14 21:06:48  1950-11-05  \n",
       "4  2010-12-14 21:06:48  1950-11-05  "
      ]
     },
     "execution_count": 2,
     "metadata": {},
     "output_type": "execute_result"
    }
   ],
   "source": [
    "import pandas as pd\n",
    "\n",
    "df = pd.read_csv('data.csv')\n",
    "df = df[:100]\n",
    "df.head()"
   ]
  },
  {
   "cell_type": "markdown",
   "metadata": {},
   "source": [
    "# Parse single sentence"
   ]
  },
  {
   "cell_type": "code",
   "execution_count": null,
   "metadata": {},
   "outputs": [],
   "source": [
    "from TimeExpressions import TimeProcessor\n",
    "\n",
    "processor = TimeProcessor.TimeProcessor()"
   ]
  },
  {
   "cell_type": "code",
   "execution_count": 14,
   "metadata": {},
   "outputs": [
    {
     "name": "stdout",
     "output_type": "stream",
     "text": [
      "[('ВК: в течении 5 лет', 'Метка: 2', 'Нормальная форма: [datetime.datetime(2005, 5, 17, 0, 0), datetime.datetime(2010, 5, 17, 0, 0)]', 'Событие: Болеет СД 2 типа')]\n"
     ]
    }
   ],
   "source": [
    "doc = processor.process(\"Болеет СД 2 типа в течении 5 лет .\", '2010-05-17 00:00:00', '1944-04-19')\n",
    "print([('ВК: '+ent.text, 'Метка: '+str(ent._.timestamp), 'Нормальная форма: '+str(ent._.normal_form), 'Событие: '+ent._.event) for ent in doc[0].ents])"
   ]
  },
  {
   "cell_type": "markdown",
   "metadata": {},
   "source": [
    "# Parse set of sentences and convert result to pandas"
   ]
  },
  {
   "cell_type": "code",
   "execution_count": 5,
   "metadata": {},
   "outputs": [],
   "source": [
    "docs = processor.process(df.sentence.values, df.date.values, df.birthday.values)\n",
    "\n",
    "time_expr = []\n",
    "stamps = []\n",
    "events = []\n",
    "normal_forms = []\n",
    "\n",
    "for doc in docs:\n",
    "    time_expr.append([ent.text for ent in doc.ents])\n",
    "    stamps.append([ent._.timestamp for ent in doc.ents])\n",
    "    events.append([ent._.event for ent in doc.ents])\n",
    "    normal_forms.append([ent._.normal_form for ent in doc.ents])"
   ]
  },
  {
   "cell_type": "code",
   "execution_count": 6,
   "metadata": {},
   "outputs": [],
   "source": [
    "time_expr_pred = [', '.join(expr) for expr in time_expr]\n",
    "df['time_expr'] = time_expr_pred"
   ]
  },
  {
   "cell_type": "code",
   "execution_count": 7,
   "metadata": {},
   "outputs": [],
   "source": [
    "# convert datetime objects to string\n",
    "flat_list = normal_forms\n",
    "for i in range(len(flat_list)):\n",
    "    if type(flat_list[i]) == list:\n",
    "        for j in range(len(flat_list[i])):\n",
    "            if type(flat_list[i][j]) == list:\n",
    "                flat_list[i][j] = ' – '.join([str(form.date()) for form in flat_list[i][j] if form is not None])\n",
    "        flat_list[i] = ', '.join([str(form) for form in flat_list[i]])\n",
    "\n",
    "df['normal_form'] = [str(i) for i in flat_list]"
   ]
  },
  {
   "cell_type": "code",
   "execution_count": 8,
   "metadata": {},
   "outputs": [],
   "source": [
    "for stamp in stamps:\n",
    "    for i in range(len(stamp)):\n",
    "        stamp[i] = str(stamp[i])\n",
    "\n",
    "stamps_pred = [', '.join(stamp) for stamp in stamps]\n",
    "df['stamp'] = stamps_pred"
   ]
  },
  {
   "cell_type": "code",
   "execution_count": 9,
   "metadata": {},
   "outputs": [],
   "source": [
    "events_pred = [', '.join(event) for event in events]\n",
    "events_pred = [event.replace(' - ', '-') for event in events_pred]\n",
    "df['event'] = events_pred"
   ]
  },
  {
   "cell_type": "code",
   "execution_count": 10,
   "metadata": {},
   "outputs": [
    {
     "data": {
      "text/html": [
       "<div>\n",
       "<style scoped>\n",
       "    .dataframe tbody tr th:only-of-type {\n",
       "        vertical-align: middle;\n",
       "    }\n",
       "\n",
       "    .dataframe tbody tr th {\n",
       "        vertical-align: top;\n",
       "    }\n",
       "\n",
       "    .dataframe thead th {\n",
       "        text-align: right;\n",
       "    }\n",
       "</style>\n",
       "<table border=\"1\" class=\"dataframe\">\n",
       "  <thead>\n",
       "    <tr style=\"text-align: right;\">\n",
       "      <th></th>\n",
       "      <th>id</th>\n",
       "      <th>sentence</th>\n",
       "      <th>date</th>\n",
       "      <th>birthday</th>\n",
       "      <th>time_expr</th>\n",
       "      <th>normal_form</th>\n",
       "      <th>stamp</th>\n",
       "      <th>event</th>\n",
       "    </tr>\n",
       "  </thead>\n",
       "  <tbody>\n",
       "    <tr>\n",
       "      <th>0</th>\n",
       "      <td>100022_0</td>\n",
       "      <td>Болеет СД 2 типа в течении 5 лет.</td>\n",
       "      <td>2010-12-14 18:33:23</td>\n",
       "      <td>1957-01-01</td>\n",
       "      <td>в течении 5 лет</td>\n",
       "      <td>2005-12-17 – 2010-12-17</td>\n",
       "      <td>2</td>\n",
       "      <td>Болеет СД 2 типа</td>\n",
       "    </tr>\n",
       "    <tr>\n",
       "      <th>1</th>\n",
       "      <td>100085_0</td>\n",
       "      <td>Считает себя больной с 1993 года, когда перене...</td>\n",
       "      <td>2010-12-14 21:06:48</td>\n",
       "      <td>1950-11-05</td>\n",
       "      <td>с 1993 года</td>\n",
       "      <td>1993-01-01</td>\n",
       "      <td>2</td>\n",
       "      <td>перенесла гинекологическую операцию</td>\n",
       "    </tr>\n",
       "    <tr>\n",
       "      <th>2</th>\n",
       "      <td>100085_4</td>\n",
       "      <td>В мае 2009 года в СибГМУ проводилась РЧ - абла...</td>\n",
       "      <td>2010-12-14 21:06:48</td>\n",
       "      <td>1950-11-05</td>\n",
       "      <td>В мае 2009 года</td>\n",
       "      <td>2009-05-01</td>\n",
       "      <td>1</td>\n",
       "      <td>проводилась РЧ-аблация по поводу ЖЭ</td>\n",
       "    </tr>\n",
       "    <tr>\n",
       "      <th>3</th>\n",
       "      <td>100085_5</td>\n",
       "      <td>Ухудшение в конце 2009, начале 2010 года, когд...</td>\n",
       "      <td>2010-12-14 21:06:48</td>\n",
       "      <td>1950-11-05</td>\n",
       "      <td>в конце 2009 , начале 2010</td>\n",
       "      <td>2009-01-01 – 2010-01-01</td>\n",
       "      <td>1</td>\n",
       "      <td>Ухудшение</td>\n",
       "    </tr>\n",
       "    <tr>\n",
       "      <th>4</th>\n",
       "      <td>100085_7</td>\n",
       "      <td>В апреле 2010 года проходила лечение в отд НРС...</td>\n",
       "      <td>2010-12-14 21:06:48</td>\n",
       "      <td>1950-11-05</td>\n",
       "      <td>В апреле 2010 года, за сутки</td>\n",
       "      <td>2010-04-01, None</td>\n",
       "      <td>1, 2</td>\n",
       "      <td>проходила лечение в отд НРС, 1 экстрасистола</td>\n",
       "    </tr>\n",
       "  </tbody>\n",
       "</table>\n",
       "</div>"
      ],
      "text/plain": [
       "         id                                           sentence  \\\n",
       "0  100022_0                  Болеет СД 2 типа в течении 5 лет.   \n",
       "1  100085_0  Считает себя больной с 1993 года, когда перене...   \n",
       "2  100085_4  В мае 2009 года в СибГМУ проводилась РЧ - абла...   \n",
       "3  100085_5  Ухудшение в конце 2009, начале 2010 года, когд...   \n",
       "4  100085_7  В апреле 2010 года проходила лечение в отд НРС...   \n",
       "\n",
       "                  date    birthday                     time_expr  \\\n",
       "0  2010-12-14 18:33:23  1957-01-01               в течении 5 лет   \n",
       "1  2010-12-14 21:06:48  1950-11-05                   с 1993 года   \n",
       "2  2010-12-14 21:06:48  1950-11-05               В мае 2009 года   \n",
       "3  2010-12-14 21:06:48  1950-11-05    в конце 2009 , начале 2010   \n",
       "4  2010-12-14 21:06:48  1950-11-05  В апреле 2010 года, за сутки   \n",
       "\n",
       "               normal_form stamp                                         event  \n",
       "0  2005-12-17 – 2010-12-17     2                              Болеет СД 2 типа  \n",
       "1               1993-01-01     2           перенесла гинекологическую операцию  \n",
       "2               2009-05-01     1           проводилась РЧ-аблация по поводу ЖЭ  \n",
       "3  2009-01-01 – 2010-01-01     1                                     Ухудшение  \n",
       "4         2010-04-01, None  1, 2  проходила лечение в отд НРС, 1 экстрасистола  "
      ]
     },
     "execution_count": 10,
     "metadata": {},
     "output_type": "execute_result"
    }
   ],
   "source": [
    "df.head()"
   ]
  },
  {
   "cell_type": "code",
   "execution_count": null,
   "metadata": {},
   "outputs": [],
   "source": []
  }
 ],
 "metadata": {
  "kernelspec": {
   "display_name": "Python 3",
   "language": "python",
   "name": "python3"
  },
  "language_info": {
   "codemirror_mode": {
    "name": "ipython",
    "version": 3
   },
   "file_extension": ".py",
   "mimetype": "text/x-python",
   "name": "python",
   "nbconvert_exporter": "python",
   "pygments_lexer": "ipython3",
   "version": "3.7.7"
  }
 },
 "nbformat": 4,
 "nbformat_minor": 4
}
