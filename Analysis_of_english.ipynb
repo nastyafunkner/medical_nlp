{
 "cells": [
  {
   "cell_type": "code",
   "execution_count": 1,
   "metadata": {},
   "outputs": [],
   "source": [
    "import pathlib\n",
    "\n",
    "sentences_7777 = list()\n",
    "dataset_file = pathlib.Path(r\"Data/separeted_sentences_txt_extra_7777\")\n",
    "docs = [file for file in dataset_file.iterdir() if file.suffix == \".txt\"]\n",
    "docs.sort()\n",
    "\n",
    "for doc in docs:\n",
    "    with open(doc, 'r') as f:\n",
    "        text = f.read()\n",
    "        text = text.replace('\\n', '')\n",
    "        sentences_7777.append(text)"
   ]
  },
  {
   "cell_type": "code",
   "execution_count": null,
   "metadata": {},
   "outputs": [],
   "source": [
    "sentences_7777"
   ]
  },
  {
   "cell_type": "code",
   "execution_count": 30,
   "metadata": {},
   "outputs": [
    {
     "data": {
      "text/plain": [
       "125106"
      ]
     },
     "execution_count": 30,
     "metadata": {},
     "output_type": "execute_result"
    }
   ],
   "source": [
    "words = list()\n",
    "\n",
    "for sent in range(len(sentences_7777)):\n",
    "    doc = nlp(sentences_7777[sent])\n",
    "    words.extend([t.text for t in doc])\n",
    "    \n",
    "len(words)"
   ]
  },
  {
   "cell_type": "code",
   "execution_count": null,
   "metadata": {},
   "outputs": [],
   "source": [
    "counter = 0\n",
    "for sent in sentences_7777:\n",
    "    if sent.find('Месячные') != -1:\n",
    "        counter += 1\n",
    "        print(counter, sent)"
   ]
  },
  {
   "cell_type": "code",
   "execution_count": 31,
   "metadata": {},
   "outputs": [
    {
     "data": {
      "text/plain": [
       "806"
      ]
     },
     "execution_count": 31,
     "metadata": {},
     "output_type": "execute_result"
    }
   ],
   "source": [
    "r = re.compile(\"[a-zA-Z]+\")\n",
    "english = [w for w in filter(r.match, words)]\n",
    "len(english)"
   ]
  },
  {
   "cell_type": "code",
   "execution_count": 47,
   "metadata": {},
   "outputs": [
    {
     "name": "stdout",
     "output_type": "stream",
     "text": [
      "[('II', 110), ('III', 97), ('MAZE', 84), ('I', 36), ('c', 33), ('CARTO', 27), ('DR', 24), ('CRT', 18), ('SR', 17), ('r', 17), ('Ds', 16), ('InSync', 14), ('WPW', 13), ('L', 10), ('Q', 10), ('D', 10), ('Mensis', 10), ('Actros', 8), ('Maximo', 7), ('Cr', 7), ('Protect', 7), ('Insync', 6), ('IIА', 6), ('AXIOS', 5), ('VR', 5), ('IIст', 5), ('GEM', 5), ('Kappa', 4), ('Vitatron', 4), ('VVIR', 4), ('Carto', 4), ('INSYNC', 4), ('Logos', 4), ('L5', 4), ('HF', 4), ('T', 4), ('uteri', 3), ('PQ', 3), ('Sigma', 3), ('PALLAS', 3), ('DC', 3), ('Cостояние', 3), ('C', 3), ('Sprint', 3), ('Quattro', 3), ('Secure', 3), ('EPI', 3), ('REGENCY', 3), ('Vita', 3), ('Medtronic', 3), ('S1', 3), ('IIБ', 3), ('Cypher', 3), ('cancer', 2), ('colli', 2), ('prima', 2), ('C20', 2), ('IV', 2), ('mensis', 2), ('ALPHEE', 2), ('FRONTIER', 2), ('PKF776176S', 2), ('L4', 2), ('CapSure', 2), ('per', 2), ('os', 2), ('S9', 2), ('Lumax', 2), ('SC', 2), ('PROMUS', 2), ('INSIGNIA', 2), ('REVEAL', 2), ('mts', 2), ('P', 2), ('Picos', 2), ('S', 2), ('HL', 2), ('Lock', 2), ('Aristotel', 1), ('Liberte', 1), ('VE', 1), ('PKF723523', 1), ('Neo', 1), ('gaster', 1), ('UK', 1), ('LGN', 1), ('Cчитает', 1), ('DBiDR', 1), ('Dp', 1), ('dt', 1), ('Sentry', 1), ('ds', 1), ('Iст', 1), ('MARQUIS', 1), ('COGNIS', 1), ('Graft', 1), ('Ergos', 1), ('AT', 1), ('b', 1), ('V', 1)]\n"
     ]
    }
   ],
   "source": [
    "from collections import Counter\n",
    "\n",
    "c = Counter(english)\n",
    "common_sentences = [x[0] for x in c.most_common(20)]\n",
    "print(c.most_common(100))"
   ]
  },
  {
   "cell_type": "markdown",
   "metadata": {},
   "source": [
    "ТОП 20 охватывают 516 слов"
   ]
  },
  {
   "cell_type": "code",
   "execution_count": 5,
   "metadata": {},
   "outputs": [
    {
     "name": "stdout",
     "output_type": "stream",
     "text": [
      "[('Месячные с 12-ти лет, менопауза с 51 лет.', 100), ('Рентген ОГК-б\\\\о от 12.10 г.', 26), ('Рентген ОГК-б\\\\о от 04.11 г.', 23), ('Рентген ОГК-б\\\\о от 06.11 г.', 18), (' Ухудшение состояния в течении последних 4-х месяцев, когда стали прогрессировать вышеперечисленные жалобы', 15), ('Рентген ОГК-б\\\\о от 01.11 г.', 14), ('Рентген ОГК-б\\\\о от 11.10 г.', 13), ('Рентген ОГК-б\\\\о от 02.11 г.', 13), ('Ухудшение состояния в течении последних 4-х месяцев, когда стали прогрессировать вышеперечисленные жалобы', 11), ('Рентген ОГК-б\\\\о от 05.11 г.', 11), ('Рентген ОГК-б\\\\о от 10.10 г.', 9), ('Рентген ОГК-б\\\\о от 07.11 г.', 8), (' Ухудшение состояния в течении последних 2-х месяцев, когда стали прогрессировать вышеперечисленные жалобы', 7), ('Месячные с 12-ти лет, менопауза с 50 лет.', 6), (' Ухудшение состояния в течении последних 4-х месяцев, когда приступы сердцебиения стали возникать до 1раза в месяц, купируются новокаинамидом', 5), ('Менструации с 13 лет, регулярные', 5), ('В 2006 г впервые зафиксирован пароксизм фибрилляции предсердий', 5), ('В марте 2007 г проведена операция, РЧА эндокардиальный MAZE , в течение последних 3 лет, пароксизмы фибрилляции предсердий возникают с частотой 1 раз в 1 мес, купируются самостоятельно или инфузией кордарона, новокаинамида', 5), ('В 2007-2009 гг принимал Кордарон, который был в последствие отменён из-за развившегося тиреотоксикоза', 5), ('Резкое учащение приступов с сентября 2010 г (еженедельно)', 5)]\n"
     ]
    }
   ],
   "source": [
    "from collections import Counter\n",
    "\n",
    "c = Counter(sentences_7777)\n",
    "common_sentences = [x[0] for x in c.most_common(20)]\n",
    "print(c.most_common(20))"
   ]
  },
  {
   "cell_type": "markdown",
   "metadata": {},
   "source": [
    "Рентген ОГК-б\\\\о от 12.10 г. - 122 раза"
   ]
  },
  {
   "cell_type": "code",
   "execution_count": 8,
   "metadata": {},
   "outputs": [
    {
     "name": "stdout",
     "output_type": "stream",
     "text": [
      "Болеет СД 2 типа в течении 5 лет.\n",
      "Болеет СД с 1982 года\n",
      "Болеет около 15 лет( отмечат появление приступов учащенного, неритмичного сердцебиения, перебои в работе сердца с 1995 года)\n",
      "Болеет более 10 лет, когда впервые появились давящие боли за грудиной при физической нагрузке выше обычной, купирующиеся сублингвальным приемом нитратов или прекращением физической нагрузки\n",
      "Болеет более 20 лет, перенесен ИМ, когда не знает\n",
      "Болеет СД более 10 лет\n",
      "Болеет сахарным диабетом с 1991 года\n",
      "Болеет СД с 2004 г, ничего не пинимает\n",
      "Болеет СД с 2000 г\n",
      "Болеет СД с 2000 г., принимает амарил 2 мг, сиофор 850 мг\n",
      "Болеет около 10 лет, ебют заболевания отмечает с повышения АД.\n",
      "Болеет СД с 2004 г\n",
      "Болеет СД с 2010 г Принимает сиофор 850 мг с февраля\n",
      "Болеет СД 2 типа, принимает формин 1000 мг 1 т вечером\n",
      "Болеет более 20 лет, когда впервы стал отмечать появление давящих болей за грудиной, возникающих при обычной физической нагрузке\n",
      "Болеет СД с 2000 г\n",
      "Болеет сахарным диабетом более 10 лет\n",
      "Болеет с 1995 года, когда стала отмечать пявление давящих болей за грудиной при физической нагрузке и повышение АД до цифр 200\\100 мм.рт.ст\n",
      "Болеет СД с 1997 г\n",
      "Болеет СД с 2006 г\n"
     ]
    }
   ],
   "source": [
    "counter = 0\n",
    "for sent in sentences_7777:\n",
    "    if 'Болеет'  in sent:\n",
    "        print(sent)\n",
    "        counter += 1"
   ]
  },
  {
   "cell_type": "code",
   "execution_count": 9,
   "metadata": {},
   "outputs": [
    {
     "data": {
      "text/plain": [
       "20"
      ]
     },
     "execution_count": 9,
     "metadata": {},
     "output_type": "execute_result"
    }
   ],
   "source": [
    "counter"
   ]
  },
  {
   "cell_type": "code",
   "execution_count": null,
   "metadata": {},
   "outputs": [],
   "source": []
  }
 ],
 "metadata": {
  "kernelspec": {
   "display_name": "Python 3",
   "language": "python",
   "name": "python3"
  },
  "language_info": {
   "codemirror_mode": {
    "name": "ipython",
    "version": 3
   },
   "file_extension": ".py",
   "mimetype": "text/x-python",
   "name": "python",
   "nbconvert_exporter": "python",
   "pygments_lexer": "ipython3",
   "version": "3.7.7"
  }
 },
 "nbformat": 4,
 "nbformat_minor": 4
}
