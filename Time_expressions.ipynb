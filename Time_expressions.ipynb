{
 "cells": [
  {
   "cell_type": "markdown",
   "metadata": {},
   "source": [
    "# Dependencies"
   ]
  },
  {
   "cell_type": "code",
   "execution_count": null,
   "metadata": {},
   "outputs": [],
   "source": [
    "!pip install yargy\n",
    "!pip install dateparser\n",
    "!pip install rutimeparser\n",
    "!pip install spacy-stanza"
   ]
  },
  {
   "cell_type": "code",
   "execution_count": null,
   "metadata": {},
   "outputs": [],
   "source": [
    "import stanza\n",
    "stanza.download('ru') "
   ]
  },
  {
   "cell_type": "markdown",
   "metadata": {},
   "source": [
    "# Exctract time expressions"
   ]
  },
  {
   "cell_type": "code",
   "execution_count": 1,
   "metadata": {},
   "outputs": [],
   "source": [
    "import re\n",
    "\n",
    "with open(\"DeepPavlov_7777.txt\", \"r\") as f:\n",
    "    text = f.read()\n",
    "\n",
    "sentences = list()\n",
    "sent_ids = list()\n",
    "sentences_parsed = text.split(\"\\n\\n\")\n",
    "for sent in range(len(sentences_parsed)-1):\n",
    "    pattern = \"# sent_id = (.*?)\\n\"\n",
    "    sent_ids.append(re.search(pattern, sentences_parsed[sent]).group()[12:-1])\n",
    "    sentences_parsed[sent] = re.sub(pattern, '', sentences_parsed[sent])\n",
    "    pattern = \"# text = (.*?)\\n\"\n",
    "    sentences.append(re.search(pattern, sentences_parsed[sent]).group()[9:-1])\n",
    "    sentences_parsed[sent] = re.sub(pattern, '', sentences_parsed[sent])"
   ]
  },
  {
   "cell_type": "code",
   "execution_count": 296,
   "metadata": {},
   "outputs": [
    {
     "name": "stdout",
     "output_type": "stream",
     "text": [
      "CPU times: user 4min 5s, sys: 98.6 ms, total: 4min 6s\n",
      "Wall time: 4min 6s\n"
     ]
    }
   ],
   "source": [
    "%%time\n",
    "import time_expressions\n",
    "\n",
    "time_exp = time_expressions.extract(sentences)"
   ]
  },
  {
   "cell_type": "code",
   "execution_count": 432,
   "metadata": {},
   "outputs": [
    {
     "data": {
      "text/plain": [
       "[['в течении 5 лет'],\n",
       " ['с 1993 года'],\n",
       " ['В мае 2009 года'],\n",
       " ['в конце 2009 , начале 2010 года'],\n",
       " ['В апреле 2010 года', 'за сутки'],\n",
       " ['В течение месяца'],\n",
       " ['около 6 лет', 'впервые'],\n",
       " ['В 2008 году'],\n",
       " ['17.09.2008'],\n",
       " ['Осенью 2010 года']]"
      ]
     },
     "execution_count": 432,
     "metadata": {},
     "output_type": "execute_result"
    }
   ],
   "source": [
    "time_exp[:10]"
   ]
  },
  {
   "cell_type": "markdown",
   "metadata": {},
   "source": [
    "# Normalize time expressions"
   ]
  },
  {
   "cell_type": "code",
   "execution_count": null,
   "metadata": {},
   "outputs": [],
   "source": [
    "%%time\n",
    "norm_time_exp = time_expressions.normalize(time_exp)"
   ]
  },
  {
   "cell_type": "code",
   "execution_count": 445,
   "metadata": {},
   "outputs": [
    {
     "data": {
      "text/html": [
       "<div>\n",
       "<style scoped>\n",
       "    .dataframe tbody tr th:only-of-type {\n",
       "        vertical-align: middle;\n",
       "    }\n",
       "\n",
       "    .dataframe tbody tr th {\n",
       "        vertical-align: top;\n",
       "    }\n",
       "\n",
       "    .dataframe thead th {\n",
       "        text-align: right;\n",
       "    }\n",
       "</style>\n",
       "<table border=\"1\" class=\"dataframe\">\n",
       "  <thead>\n",
       "    <tr style=\"text-align: right;\">\n",
       "      <th></th>\n",
       "      <th>id</th>\n",
       "      <th>sentence</th>\n",
       "      <th>time_expressions</th>\n",
       "      <th>norm_time_expressions</th>\n",
       "    </tr>\n",
       "  </thead>\n",
       "  <tbody>\n",
       "    <tr>\n",
       "      <th>0</th>\n",
       "      <td>0</td>\n",
       "      <td>Болеет СД 2 типа в течении 5 лет.</td>\n",
       "      <td>[в течении 5 лет]</td>\n",
       "      <td>[[None]]</td>\n",
       "    </tr>\n",
       "    <tr>\n",
       "      <th>1</th>\n",
       "      <td>1</td>\n",
       "      <td>Считает себя больной с 1993 года, когда перене...</td>\n",
       "      <td>[с 1993 года]</td>\n",
       "      <td>[1993-08-01 00:00:00]</td>\n",
       "    </tr>\n",
       "    <tr>\n",
       "      <th>2</th>\n",
       "      <td>2</td>\n",
       "      <td>В мае 2009 года в СибГМУ проводилась РЧ-аблаци...</td>\n",
       "      <td>[В мае 2009 года]</td>\n",
       "      <td>[2009-05-01 00:00:00]</td>\n",
       "    </tr>\n",
       "    <tr>\n",
       "      <th>3</th>\n",
       "      <td>3</td>\n",
       "      <td>Ухудшение в конце 2009, начале 2010 года, когд...</td>\n",
       "      <td>[в конце 2009 , начале 2010 года]</td>\n",
       "      <td>[[2009-12-01 00:00:00, 2010-01-01 00:00:00]]</td>\n",
       "    </tr>\n",
       "    <tr>\n",
       "      <th>4</th>\n",
       "      <td>4</td>\n",
       "      <td>В апреле 2010 года проходила лечение в отд НРС...</td>\n",
       "      <td>[В апреле 2010 года, за сутки]</td>\n",
       "      <td>[2010-04-01 00:00:00, None]</td>\n",
       "    </tr>\n",
       "    <tr>\n",
       "      <th>5</th>\n",
       "      <td>5</td>\n",
       "      <td>В течение месяца чувствовала себя удовлетворит...</td>\n",
       "      <td>[В течение месяца]</td>\n",
       "      <td>[None]</td>\n",
       "    </tr>\n",
       "    <tr>\n",
       "      <th>6</th>\n",
       "      <td>6</td>\n",
       "      <td>Больной себя считает около 6 лет, когла вперв...</td>\n",
       "      <td>[около 6 лет, впервые]</td>\n",
       "      <td>[[None], None]</td>\n",
       "    </tr>\n",
       "    <tr>\n",
       "      <th>7</th>\n",
       "      <td>7</td>\n",
       "      <td>В 2008 году внезапно почувствовала слабость, п...</td>\n",
       "      <td>[В 2008 году]</td>\n",
       "      <td>[2008-08-01 00:00:00]</td>\n",
       "    </tr>\n",
       "    <tr>\n",
       "      <th>8</th>\n",
       "      <td>8</td>\n",
       "      <td>17.09.2008 пациентке имплантирован ЭКС 452, па...</td>\n",
       "      <td>[17.09.2008]</td>\n",
       "      <td>[2008-09-17 00:00:00]</td>\n",
       "    </tr>\n",
       "    <tr>\n",
       "      <th>9</th>\n",
       "      <td>9</td>\n",
       "      <td>Осенью 2010 года пациентка госпитализировалась...</td>\n",
       "      <td>[Осенью 2010 года]</td>\n",
       "      <td>[[2010-09-01 00:00:00]]</td>\n",
       "    </tr>\n",
       "  </tbody>\n",
       "</table>\n",
       "</div>"
      ],
      "text/plain": [
       "  id                                           sentence  \\\n",
       "0  0                  Болеет СД 2 типа в течении 5 лет.   \n",
       "1  1  Считает себя больной с 1993 года, когда перене...   \n",
       "2  2  В мае 2009 года в СибГМУ проводилась РЧ-аблаци...   \n",
       "3  3  Ухудшение в конце 2009, начале 2010 года, когд...   \n",
       "4  4  В апреле 2010 года проходила лечение в отд НРС...   \n",
       "5  5  В течение месяца чувствовала себя удовлетворит...   \n",
       "6  6   Больной себя считает около 6 лет, когла вперв...   \n",
       "7  7  В 2008 году внезапно почувствовала слабость, п...   \n",
       "8  8  17.09.2008 пациентке имплантирован ЭКС 452, па...   \n",
       "9  9  Осенью 2010 года пациентка госпитализировалась...   \n",
       "\n",
       "                    time_expressions  \\\n",
       "0                  [в течении 5 лет]   \n",
       "1                      [с 1993 года]   \n",
       "2                  [В мае 2009 года]   \n",
       "3  [в конце 2009 , начале 2010 года]   \n",
       "4     [В апреле 2010 года, за сутки]   \n",
       "5                 [В течение месяца]   \n",
       "6             [около 6 лет, впервые]   \n",
       "7                      [В 2008 году]   \n",
       "8                       [17.09.2008]   \n",
       "9                 [Осенью 2010 года]   \n",
       "\n",
       "                          norm_time_expressions  \n",
       "0                                      [[None]]  \n",
       "1                         [1993-08-01 00:00:00]  \n",
       "2                         [2009-05-01 00:00:00]  \n",
       "3  [[2009-12-01 00:00:00, 2010-01-01 00:00:00]]  \n",
       "4                   [2010-04-01 00:00:00, None]  \n",
       "5                                        [None]  \n",
       "6                                [[None], None]  \n",
       "7                         [2008-08-01 00:00:00]  \n",
       "8                         [2008-09-17 00:00:00]  \n",
       "9                       [[2010-09-01 00:00:00]]  "
      ]
     },
     "execution_count": 445,
     "metadata": {},
     "output_type": "execute_result"
    }
   ],
   "source": [
    "import pandas as pd\n",
    "\n",
    "d = {'id': sent_ids, 'sentence': sentences, 'time_expressions': time_exp, 'norm_time_expressions': norm_time_exp}\n",
    "df = pd.DataFrame(data=d)\n",
    "df.to_csv('result_with_norm.csv', index = False)\n",
    "df.head(10)"
   ]
  },
  {
   "cell_type": "code",
   "execution_count": 431,
   "metadata": {},
   "outputs": [
    {
     "data": {
      "text/plain": [
       "[[None],\n",
       " [datetime.datetime(1993, 8, 1, 0, 0)],\n",
       " [datetime.datetime(2009, 5, 1, 0, 0)],\n",
       " [[datetime.datetime(2009, 12, 1, 0, 0), datetime.datetime(2010, 1, 1, 0, 0)]],\n",
       " [datetime.datetime(2010, 4, 1, 0, 0), None],\n",
       " [None],\n",
       " [datetime.datetime(2020, 6, 1, 0, 0), None],\n",
       " [datetime.datetime(2008, 8, 1, 0, 0)],\n",
       " [datetime.datetime(2008, 9, 17, 0, 0)],\n",
       " [[datetime.datetime(2010, 9, 1, 0, 0)]]]"
      ]
     },
     "execution_count": 431,
     "metadata": {},
     "output_type": "execute_result"
    }
   ],
   "source": [
    "norm_time_exp[:10]"
   ]
  },
  {
   "cell_type": "code",
   "execution_count": null,
   "metadata": {},
   "outputs": [],
   "source": []
  }
 ],
 "metadata": {
  "kernelspec": {
   "display_name": "Python 3",
   "language": "python",
   "name": "python3"
  },
  "language_info": {
   "codemirror_mode": {
    "name": "ipython",
    "version": 3
   },
   "file_extension": ".py",
   "mimetype": "text/x-python",
   "name": "python",
   "nbconvert_exporter": "python",
   "pygments_lexer": "ipython3",
   "version": "3.7.7"
  }
 },
 "nbformat": 4,
 "nbformat_minor": 4
}
