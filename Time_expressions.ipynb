{
 "cells": [
  {
   "cell_type": "code",
   "execution_count": 1,
   "metadata": {},
   "outputs": [],
   "source": [
    "import spacy\n",
    "from spacy.tokens import Doc\n",
    "\n",
    "def doc_from_conllu(vocab, lines):\n",
    "    words, spaces, tags, poses, morphs, lemmas = [], [], [], [], [], []\n",
    "    heads, deps = [], []\n",
    "    for i in range(len(lines)):\n",
    "        line = lines[i]\n",
    "        parts = line.split(\"\\t\")\n",
    "        id_, word, lemma, pos, tag, morph, head, dep, _1, misc = parts\n",
    "        if \".\" in id_ or \"-\" in id_:\n",
    "            continue\n",
    "        if \"SpaceAfter=No\" in misc:\n",
    "            spaces.append(False)\n",
    "        else:\n",
    "            spaces.append(True)\n",
    "\n",
    "        id_ = int(id_) - 1\n",
    "        head = (int(head) - 1) if head not in (\"0\", \"_\") else id_\n",
    "        tag = pos if tag == \"_\" else tag\n",
    "        morph = morph if morph != \"_\" else \"\"\n",
    "        dep = \"ROOT\" if dep == \"root\" else dep\n",
    "\n",
    "        words.append(word)\n",
    "        lemmas.append(lemma)\n",
    "        poses.append(pos)\n",
    "        tags.append(tag)\n",
    "        morphs.append(morph)\n",
    "        heads.append(head)\n",
    "        deps.append(dep)\n",
    "\n",
    "    doc = Doc(vocab, words=words, spaces=spaces)\n",
    "    for i in range(len(doc)):\n",
    "        doc[i].tag_ = tags[i]\n",
    "        doc[i].pos_ = poses[i]\n",
    "        doc[i].dep_ = deps[i]\n",
    "        doc[i].lemma_ = lemmas[i]\n",
    "        doc[i].head = doc[heads[i]]\n",
    "    doc.is_parsed = True\n",
    "    doc.is_tagged = True\n",
    "\n",
    "    return doc"
   ]
  },
  {
   "cell_type": "code",
   "execution_count": 4,
   "metadata": {},
   "outputs": [],
   "source": [
    "from nltk import Tree\n",
    "\n",
    "def to_nltk_tree(node):\n",
    "    if node.n_lefts + node.n_rights > 0:\n",
    "        return Tree(node.orth_, [to_nltk_tree(child) for child in node.children])\n",
    "    else:\n",
    "        return node.orth_"
   ]
  },
  {
   "cell_type": "code",
   "execution_count": 5,
   "metadata": {},
   "outputs": [
    {
     "name": "stderr",
     "output_type": "stream",
     "text": [
      "2020-08-11 12:28:08 INFO: Loading these models for language: ru (Russian):\n",
      "=========================\n",
      "| Processor | Package   |\n",
      "-------------------------\n",
      "| tokenize  | syntagrus |\n",
      "| pos       | syntagrus |\n",
      "| lemma     | syntagrus |\n",
      "| depparse  | syntagrus |\n",
      "| ner       | wikiner   |\n",
      "=========================\n",
      "\n",
      "2020-08-11 12:28:08 INFO: Use device: gpu\n",
      "2020-08-11 12:28:08 INFO: Loading: tokenize\n",
      "2020-08-11 12:28:11 INFO: Loading: pos\n",
      "2020-08-11 12:28:11 INFO: Loading: lemma\n",
      "2020-08-11 12:28:11 INFO: Loading: depparse\n",
      "2020-08-11 12:28:12 INFO: Loading: ner\n",
      "2020-08-11 12:28:13 INFO: Done loading processors!\n"
     ]
    }
   ],
   "source": [
    "import stanza\n",
    "from spacy_stanza import StanzaLanguage\n",
    "\n",
    "snlp = stanza.Pipeline(lang=\"ru\")\n",
    "nlp = StanzaLanguage(snlp)"
   ]
  },
  {
   "cell_type": "code",
   "execution_count": 12,
   "metadata": {},
   "outputs": [],
   "source": [
    "import re\n",
    "\n",
    "with open(\"DeepPavlov_7777.txt\", \"r\") as f:\n",
    "    text = f.read()\n",
    "\n",
    "sentences = text.split(\"\\n\\n\")\n",
    "for sent in range(len(sentences)):\n",
    "    pattern = \"# sent_id = (.*?)\\n\"\n",
    "    sentences[sent] = re.sub(pattern, '', sentences[sent])\n",
    "    pattern = \"# text = (.*?)\\n\"\n",
    "    sentences[sent] = re.sub(pattern, '', sentences[sent])"
   ]
  },
  {
   "cell_type": "code",
   "execution_count": 13,
   "metadata": {},
   "outputs": [
    {
     "name": "stdout",
     "output_type": "stream",
     "text": [
      "    Болеет                \n",
      "  ____|_________           \n",
      " |    СД       лет        \n",
      " |    |      ___|_____     \n",
      " |   типа   |         в   \n",
      " |    |     |         |    \n",
      " .    2     5      течении\n",
      "\n",
      "******************************************************************************************************************************************************\n"
     ]
    }
   ],
   "source": [
    "for i in sentences[:1]:\n",
    "    doc = doc_from_conllu(nlp.vocab, i.split(\"\\n\"))\n",
    "    [to_nltk_tree(sent.root).pretty_print() for sent in doc.sents]\n",
    "    print('*'*150)"
   ]
  },
  {
   "cell_type": "code",
   "execution_count": 14,
   "metadata": {},
   "outputs": [
    {
     "data": {
      "text/plain": [
       "'1\\tБолеет\\tболеть\\tVERB\\t_\\tAspect=Imp|Mood=Ind|Number=Sing|Person=3|Tense=Pres|VerbForm=Fin|Voice=Act\\t0\\troot\\t_\\t_\\n2\\tСД\\tсд\\tPROPN\\t_\\tAnimacy=Inan|Case=Nom|Gender=Neut|Number=Sing\\t1\\tnsubj\\t_\\t_\\n3\\t2\\t2\\tNUM\\t_\\t_\\t4\\tnummod\\t_\\t_\\n4\\tтипа\\tтип\\tNOUN\\t_\\tAnimacy=Inan|Case=Gen|Gender=Masc|Number=Sing\\t2\\tnmod\\t_\\t_\\n5\\tв\\tв\\tADP\\t_\\t_\\t8\\tcase\\t_\\t_\\n6\\tтечении\\tтечение\\tNOUN\\t_\\tAnimacy=Inan|Case=Loc|Gender=Neut|Number=Sing\\t5\\tfixed\\t_\\t_\\n7\\t5\\t5\\tNUM\\t_\\t_\\t8\\tnummod\\t_\\t_\\n8\\tлет\\tгод\\tNOUN\\t_\\tAnimacy=Inan|Case=Gen|Gender=Masc|Number=Plur\\t1\\tobl\\t_\\t_\\n9\\t.\\t.\\tPUNCT\\t_\\t_\\t1\\tpunct\\t_\\t_'"
      ]
     },
     "execution_count": 14,
     "metadata": {},
     "output_type": "execute_result"
    }
   ],
   "source": [
    "sentences[0]"
   ]
  },
  {
   "cell_type": "code",
   "execution_count": null,
   "metadata": {},
   "outputs": [],
   "source": []
  }
 ],
 "metadata": {
  "kernelspec": {
   "display_name": "Python 3",
   "language": "python",
   "name": "python3"
  },
  "language_info": {
   "codemirror_mode": {
    "name": "ipython",
    "version": 3
   },
   "file_extension": ".py",
   "mimetype": "text/x-python",
   "name": "python",
   "nbconvert_exporter": "python",
   "pygments_lexer": "ipython3",
   "version": "3.7.7"
  }
 },
 "nbformat": 4,
 "nbformat_minor": 4
}
