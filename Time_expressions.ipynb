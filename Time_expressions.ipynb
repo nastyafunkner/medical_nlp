{
 "cells": [
  {
   "cell_type": "markdown",
   "metadata": {},
   "source": [
    "# Exctract time expressions"
   ]
  },
  {
   "cell_type": "code",
   "execution_count": 1,
   "metadata": {},
   "outputs": [],
   "source": [
    "import re\n",
    "\n",
    "with open(\"DeepPavlov_7777.txt\", \"r\") as f:\n",
    "    text = f.read()\n",
    "\n",
    "sentences = list()\n",
    "sent_ids = list()\n",
    "sentences_parsed = text.split(\"\\n\\n\")\n",
    "for sent in range(len(sentences_parsed)-1):\n",
    "    pattern = \"# sent_id = (.*?)\\n\"\n",
    "    sent_ids.append(re.search(pattern, sentences_parsed[sent]).group()[12:-1])\n",
    "    sentences_parsed[sent] = re.sub(pattern, '', sentences_parsed[sent])\n",
    "    pattern = \"# text = (.*?)\\n\"\n",
    "    sentences.append(re.search(pattern, sentences_parsed[sent]).group()[9:-1])\n",
    "    sentences_parsed[sent] = re.sub(pattern, '', sentences_parsed[sent])"
   ]
  },
  {
   "cell_type": "code",
   "execution_count": 4,
   "metadata": {},
   "outputs": [],
   "source": [
    "from time_expressions import get_time_expressions\n",
    "\n",
    "time_exp = get_time_expressions(sentences, save=True)"
   ]
  },
  {
   "cell_type": "code",
   "execution_count": 3,
   "metadata": {},
   "outputs": [
    {
     "data": {
      "text/html": [
       "<div>\n",
       "<style scoped>\n",
       "    .dataframe tbody tr th:only-of-type {\n",
       "        vertical-align: middle;\n",
       "    }\n",
       "\n",
       "    .dataframe tbody tr th {\n",
       "        vertical-align: top;\n",
       "    }\n",
       "\n",
       "    .dataframe thead th {\n",
       "        text-align: right;\n",
       "    }\n",
       "</style>\n",
       "<table border=\"1\" class=\"dataframe\">\n",
       "  <thead>\n",
       "    <tr style=\"text-align: right;\">\n",
       "      <th></th>\n",
       "      <th>id</th>\n",
       "      <th>sentence</th>\n",
       "      <th>time_expressions</th>\n",
       "    </tr>\n",
       "  </thead>\n",
       "  <tbody>\n",
       "    <tr>\n",
       "      <th>0</th>\n",
       "      <td>0</td>\n",
       "      <td>Болеет СД 2 типа в течении 5 лет.</td>\n",
       "      <td>[5 лет]</td>\n",
       "    </tr>\n",
       "    <tr>\n",
       "      <th>1</th>\n",
       "      <td>1</td>\n",
       "      <td>Считает себя больной с 1993 года, когда перене...</td>\n",
       "      <td>[1993 года]</td>\n",
       "    </tr>\n",
       "    <tr>\n",
       "      <th>2</th>\n",
       "      <td>2</td>\n",
       "      <td>В мае 2009 года в СибГМУ проводилась РЧ-аблаци...</td>\n",
       "      <td>[В мае 2009 года]</td>\n",
       "    </tr>\n",
       "    <tr>\n",
       "      <th>3</th>\n",
       "      <td>3</td>\n",
       "      <td>Ухудшение в конце 2009, начале 2010 года, когд...</td>\n",
       "      <td>[в конце 2009 , начале 2010 года]</td>\n",
       "    </tr>\n",
       "    <tr>\n",
       "      <th>4</th>\n",
       "      <td>4</td>\n",
       "      <td>В апреле 2010 года проходила лечение в отд НРС...</td>\n",
       "      <td>[В апреле 2010 года, сутки]</td>\n",
       "    </tr>\n",
       "  </tbody>\n",
       "</table>\n",
       "</div>"
      ],
      "text/plain": [
       "  id                                           sentence  \\\n",
       "0  0                  Болеет СД 2 типа в течении 5 лет.   \n",
       "1  1  Считает себя больной с 1993 года, когда перене...   \n",
       "2  2  В мае 2009 года в СибГМУ проводилась РЧ-аблаци...   \n",
       "3  3  Ухудшение в конце 2009, начале 2010 года, когд...   \n",
       "4  4  В апреле 2010 года проходила лечение в отд НРС...   \n",
       "\n",
       "                    time_expressions  \n",
       "0                            [5 лет]  \n",
       "1                        [1993 года]  \n",
       "2                  [В мае 2009 года]  \n",
       "3  [в конце 2009 , начале 2010 года]  \n",
       "4        [В апреле 2010 года, сутки]  "
      ]
     },
     "execution_count": 3,
     "metadata": {},
     "output_type": "execute_result"
    }
   ],
   "source": [
    "import pandas as pd\n",
    "pd.options.display.max_columns = None\n",
    "\n",
    "d = {'id': sent_ids, 'sentence': sentences, 'time_expressions': time_exp}\n",
    "df = pd.DataFrame(data=d)\n",
    "df.head()"
   ]
  },
  {
   "cell_type": "code",
   "execution_count": null,
   "metadata": {},
   "outputs": [],
   "source": []
  }
 ],
 "metadata": {
  "kernelspec": {
   "display_name": "Python 3",
   "language": "python",
   "name": "python3"
  },
  "language_info": {
   "codemirror_mode": {
    "name": "ipython",
    "version": 3
   },
   "file_extension": ".py",
   "mimetype": "text/x-python",
   "name": "python",
   "nbconvert_exporter": "python",
   "pygments_lexer": "ipython3",
   "version": "3.7.7"
  }
 },
 "nbformat": 4,
 "nbformat_minor": 4
}
