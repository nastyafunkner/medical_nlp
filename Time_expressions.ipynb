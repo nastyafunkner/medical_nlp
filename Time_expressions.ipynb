{
 "cells": [
  {
   "cell_type": "code",
   "execution_count": 1,
   "metadata": {},
   "outputs": [],
   "source": [
    "import spacy\n",
    "from spacy.tokens import Doc\n",
    "\n",
    "def doc_from_conllu(vocab, lines):\n",
    "    words, spaces, tags, poses, morphs, lemmas = [], [], [], [], [], []\n",
    "    heads, deps = [], []\n",
    "    for i in range(len(lines)):\n",
    "        line = lines[i]\n",
    "        parts = line.split(\"\\t\")\n",
    "        id_, word, lemma, pos, tag, morph, head, dep, _1, misc = parts\n",
    "        if \".\" in id_ or \"-\" in id_:\n",
    "            continue\n",
    "        if \"SpaceAfter=No\" in misc:\n",
    "            spaces.append(False)\n",
    "        else:\n",
    "            spaces.append(True)\n",
    "\n",
    "        id_ = int(id_) - 1\n",
    "        head = (int(head) - 1) if head not in (\"0\", \"_\") else id_\n",
    "        tag = pos if tag == \"_\" else tag\n",
    "        morph = morph if morph != \"_\" else \"\"\n",
    "        dep = \"ROOT\" if dep == \"root\" else dep\n",
    "\n",
    "        words.append(word)\n",
    "        lemmas.append(lemma)\n",
    "        poses.append(pos)\n",
    "        tags.append(tag)\n",
    "        morphs.append(morph)\n",
    "        heads.append(head)\n",
    "        deps.append(dep)\n",
    "\n",
    "    doc = Doc(vocab, words=words, spaces=spaces)\n",
    "    for i in range(len(doc)):\n",
    "        doc[i].tag_ = tags[i]\n",
    "        doc[i].pos_ = poses[i]\n",
    "        doc[i].dep_ = deps[i]\n",
    "        doc[i].lemma_ = lemmas[i]\n",
    "        doc[i].head = doc[heads[i]]\n",
    "    doc.is_parsed = True\n",
    "    doc.is_tagged = True\n",
    "\n",
    "    return doc"
   ]
  },
  {
   "cell_type": "code",
   "execution_count": 4,
   "metadata": {},
   "outputs": [],
   "source": [
    "from nltk import Tree\n",
    "\n",
    "def to_nltk_tree(node):\n",
    "    if node.n_lefts + node.n_rights > 0:\n",
    "        return Tree(node.orth_, [to_nltk_tree(child) for child in node.children])\n",
    "    else:\n",
    "        return node.orth_"
   ]
  },
  {
   "cell_type": "code",
   "execution_count": null,
   "metadata": {},
   "outputs": [],
   "source": [
    "import stanza\n",
    "from spacy_stanza import StanzaLanguage\n",
    "\n",
    "snlp = stanza.Pipeline(lang=\"ru\")\n",
    "nlp = StanzaLanguage(snlp)"
   ]
  },
  {
   "cell_type": "code",
   "execution_count": 12,
   "metadata": {},
   "outputs": [],
   "source": [
    "import re\n",
    "\n",
    "with open(\"DeepPavlov_7777.txt\", \"r\") as f:\n",
    "    text = f.read()\n",
    "\n",
    "sentences = text.split(\"\\n\\n\")\n",
    "for sent in range(len(sentences)):\n",
    "    pattern = \"# sent_id = (.*?)\\n\"\n",
    "    sentences[sent] = re.sub(pattern, '', sentences[sent])\n",
    "    pattern = \"# text = (.*?)\\n\"\n",
    "    sentences[sent] = re.sub(pattern, '', sentences[sent])"
   ]
  },
  {
   "cell_type": "code",
   "execution_count": 13,
   "metadata": {},
   "outputs": [
    {
     "name": "stdout",
     "output_type": "stream",
     "text": [
      "    Болеет                \n",
      "  ____|_________           \n",
      " |    СД       лет        \n",
      " |    |      ___|_____     \n",
      " |   типа   |         в   \n",
      " |    |     |         |    \n",
      " .    2     5      течении\n",
      "\n",
      "******************************************************************************************************************************************************\n"
     ]
    }
   ],
   "source": [
    "for i in sentences[:1]:\n",
    "    doc = doc_from_conllu(nlp.vocab, i.split(\"\\n\"))\n",
    "    [to_nltk_tree(sent.root).pretty_print() for sent in doc.sents]\n",
    "    print('*'*150)"
   ]
  },
  {
   "cell_type": "code",
   "execution_count": null,
   "metadata": {},
   "outputs": [],
   "source": []
  }
 ],
 "metadata": {
  "kernelspec": {
   "display_name": "Python 3",
   "language": "python",
   "name": "python3"
  },
  "language_info": {
   "codemirror_mode": {
    "name": "ipython",
    "version": 3
   },
   "file_extension": ".py",
   "mimetype": "text/x-python",
   "name": "python",
   "nbconvert_exporter": "python",
   "pygments_lexer": "ipython3",
   "version": "3.7.7"
  }
 },
 "nbformat": 4,
 "nbformat_minor": 4
}
